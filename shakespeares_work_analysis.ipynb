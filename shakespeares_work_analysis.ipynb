{
 "cells": [
  {
   "cell_type": "code",
   "execution_count": 1,
   "metadata": {},
   "outputs": [],
   "source": [
    "from preprocessing import text_list\n",
    "import pickle"
   ]
  },
  {
   "cell_type": "code",
   "execution_count": 2,
   "metadata": {},
   "outputs": [],
   "source": [
    "# Let's load the 'texts_list.pkl' file\n",
    "texts_list = pickle.load(open(\"data/texts/texts_list.pkl\", \"rb\"))"
   ]
  },
  {
   "cell_type": "code",
   "execution_count": 3,
   "metadata": {},
   "outputs": [
    {
     "name": "stderr",
     "output_type": "stream",
     "text": [
      "Remove Punctuation: 100%|██████████████████████████████████████████████████████████████| 37/37 [00:07<00:00,  5.10it/s]\n",
      "Removing Stopwords: 100%|█████████████████████████████████████████████████████████████| 37/37 [00:00<00:00, 502.70it/s]\n",
      "POS Tagging: 100%|█████████████████████████████████████████████████████████████████████| 37/37 [00:22<00:00,  1.60it/s]\n",
      "Word Frequency Distribution: 100%|████████████████████████████████████████████████████| 37/37 [00:00<00:00, 137.82it/s]\n",
      "Named Entity Recognition: 100%|████████████████████████████████████████████████████████| 37/37 [01:30<00:00,  2.29s/it]\n"
     ]
    },
    {
     "name": "stdout",
     "output_type": "stream",
     "text": [
      "Folder Exists: 'data'\n",
      "Folder Exists: 'data/links'\n",
      "Folder Exists: 'data/texts'\n",
      "Folder Exists: 'data/tokens'\n"
     ]
    }
   ],
   "source": [
    "# Let's extract the clean_word_tokens, filtered_clean_word_tokens, tagged_filtered_clean_word_tokens, word_tokens, sent_tokens, words_fdist, namedEnt\n",
    "text_list(texts_list)"
   ]
  },
  {
   "cell_type": "code",
   "execution_count": null,
   "metadata": {},
   "outputs": [],
   "source": []
  }
 ],
 "metadata": {
  "kernelspec": {
   "display_name": "Python 3",
   "language": "python",
   "name": "python3"
  },
  "language_info": {
   "codemirror_mode": {
    "name": "ipython",
    "version": 3
   },
   "file_extension": ".py",
   "mimetype": "text/x-python",
   "name": "python",
   "nbconvert_exporter": "python",
   "pygments_lexer": "ipython3",
   "version": "3.7.3"
  }
 },
 "nbformat": 4,
 "nbformat_minor": 2
}

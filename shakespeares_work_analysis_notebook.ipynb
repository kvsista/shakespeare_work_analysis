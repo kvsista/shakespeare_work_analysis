{
 "cells": [
  {
   "cell_type": "code",
   "execution_count": 1,
   "metadata": {},
   "outputs": [],
   "source": [
    "from scraper import page_links, textfromlink\n",
    "from preprocessing import text_data"
   ]
  },
  {
   "cell_type": "code",
   "execution_count": 2,
   "metadata": {},
   "outputs": [],
   "source": [
    "# Let's assign a variable named 'url' to the website we intend to scrape\n",
    "url = 'http://shakespeare.mit.edu/'"
   ]
  },
  {
   "cell_type": "code",
   "execution_count": 3,
   "metadata": {},
   "outputs": [],
   "source": [
    "# Let's extract the home_links and internal_links from the entire website\n",
    "home_links, internal_links = page_links(url)"
   ]
  },
  {
   "cell_type": "code",
   "execution_count": 4,
   "metadata": {},
   "outputs": [],
   "source": [
    "# Let's extract the text from each internal_link and stitch them together into a single string\n",
    "full_text = textfromlink(internal_links)"
   ]
  },
  {
   "cell_type": "code",
   "execution_count": 5,
   "metadata": {},
   "outputs": [],
   "source": [
    "# Let's extract the clean_word_tokens, filtered_clean_word_tokens, tagged_filtered_clean_word_tokens, word_tokens, sent_tokens, words_fdist, namedEnt\n",
    "clean_word_tokens, filtered_clean_word_tokens, tagged_filtered_clean_word_tokens, word_tokens, sent_tokens, words_fdist, namedEnt = text_data(full_text)"
   ]
  },
  {
   "cell_type": "code",
   "execution_count": 6,
   "metadata": {},
   "outputs": [
    {
     "name": "stdout",
     "output_type": "stream",
     "text": [
      "Variable                            Type        Data/Info\n",
      "---------------------------------------------------------\n",
      "clean_word_tokens                   list        n=835941\n",
      "filtered_clean_word_tokens          list        n=409798\n",
      "full_text                           str         In delivering my son from<...>nts may ne'er it ruinate.\n",
      "home_links                          list        n=43\n",
      "internal_links                      list        n=945\n",
      "namedEnt                            Tree        (S\\n  delivering/VBG\\n  s<...>B\\n  er/NN\\n  ruinate/NN)\n",
      "page_links                          function    <function page_links at 0x00000220643C30D0>\n",
      "sent_tokens                         list        n=53829\n",
      "tagged_filtered_clean_word_tokens   list        n=409798\n",
      "text_data                           function    <function text_data at 0x0000022065C6AF28>\n",
      "textfromlink                        function    <function textfromlink at 0x0000022064995EA0>\n",
      "url                                 str         http://shakespeare.mit.edu/\n",
      "word_tokens                         list        n=1003118\n",
      "words_fdist                         FreqDist    <FreqDist with 42138 samples and 409798 outcomes>\n"
     ]
    }
   ],
   "source": [
    "# Looking into all the variables created\n",
    "%whos"
   ]
  },
  {
   "cell_type": "code",
   "execution_count": 7,
   "metadata": {},
   "outputs": [
    {
     "data": {
      "text/plain": [
       "FreqDist({('shall', 'MD'): 3600, ('thou', 'NN'): 3157, ('thy', 'JJ'): 3090, ('good', 'JJ'): 2843, ('would', 'MD'): 2326, ('well', 'RB'): 2223, ('lord', 'NN'): 2134, ('man', 'NN'): 2004, ('one', 'CD'): 1757, ('like', 'IN'): 1755, ...})"
      ]
     },
     "execution_count": 7,
     "metadata": {},
     "output_type": "execute_result"
    }
   ],
   "source": [
    "# Let's look at the Frequency Distribution dictionary\n",
    "words_fdist"
   ]
  },
  {
   "cell_type": "code",
   "execution_count": 8,
   "metadata": {},
   "outputs": [],
   "source": [
    "def plot_freqdist_freq(fdist,\n",
    "                       max_num=None,\n",
    "                       cumulative=False,\n",
    "                       title='Frequency plot',\n",
    "                       linewidth=2):\n",
    "    \"\"\"\n",
    "    As of NLTK version 3.2.1, FreqDist.plot() plots the counts \n",
    "    and has no kwarg for normalising to frequency. \n",
    "    Work this around here.\n",
    "    \n",
    "    INPUT:\n",
    "        - the FreqDist object\n",
    "        - max_num: if specified, only plot up to this number of items \n",
    "          (they are already sorted descending by the FreqDist)\n",
    "        - cumulative: bool (defaults to False)\n",
    "        - title: the title to give the plot\n",
    "        - linewidth: the width of line to use (defaults to 2)\n",
    "    OUTPUT: plot the freq and return None.\n",
    "    \"\"\"\n",
    "\n",
    "    tmp = fdist.copy()\n",
    "    norm = fdist.N()\n",
    "    for key in tmp.keys():\n",
    "        tmp[key] = float(fdist[key]) / norm\n",
    "\n",
    "    if max_num:\n",
    "        tmp.plot(max_num, cumulative=cumulative,\n",
    "                 title=title, linewidth=linewidth)\n",
    "    else:\n",
    "        tmp.plot(cumulative=cumulative, \n",
    "                 title=title, \n",
    "                 linewidth=linewidth)\n",
    "\n",
    "    return"
   ]
  },
  {
   "cell_type": "code",
   "execution_count": 9,
   "metadata": {},
   "outputs": [
    {
     "data": {
      "text/plain": [
       "<Figure size 640x480 with 1 Axes>"
      ]
     },
     "metadata": {},
     "output_type": "display_data"
    }
   ],
   "source": [
    "# Let's plot the normalized word frequency distribution for the Top 30 words\n",
    "plot_freqdist_freq(words_fdist, max_num=30)"
   ]
  },
  {
   "cell_type": "code",
   "execution_count": 10,
   "metadata": {},
   "outputs": [
    {
     "data": {
      "image/png": "[encoded data removed]",
      "text/plain": [
       "<Figure size 432x288 with 1 Axes>"
      ]
     },
     "metadata": {
      "needs_background": "light"
     },
     "output_type": "display_data"
    },
    {
     "data": {
      "text/plain": [
       "<matplotlib.axes._subplots.AxesSubplot at 0x22077eb1588>"
      ]
     },
     "execution_count": 10,
     "metadata": {},
     "output_type": "execute_result"
    }
   ],
   "source": [
    "# Let's plot the counts of the frequency distribution for the Top 30 words\n",
    "words_fdist.plot(30)"
   ]
  }
 ],
 "metadata": {
  "kernelspec": {
   "display_name": "Python 3",
   "language": "python",
   "name": "python3"
  },
  "language_info": {
   "codemirror_mode": {
    "name": "ipython",
    "version": 3
   },
   "file_extension": ".py",
   "mimetype": "text/x-python",
   "name": "python",
   "nbconvert_exporter": "python",
   "pygments_lexer": "ipython3",
   "version": "3.7.3"
  }
 },
 "nbformat": 4,
 "nbformat_minor": 2
}

{
 "cells": [
  {
   "cell_type": "code",
   "execution_count": 1,
   "metadata": {},
   "outputs": [],
   "source": [
    "from preprocessing import text_list\n",
    "import pickle"
   ]
  },
  {
   "cell_type": "code",
   "execution_count": 2,
   "metadata": {},
   "outputs": [],
   "source": [
    "fulltext_list = pickle.load(open(\"data/fulltext_list.pkl\", \"rb\"))"
   ]
  },
  {
   "cell_type": "code",
   "execution_count": 3,
   "metadata": {},
   "outputs": [
    {
     "name": "stderr",
     "output_type": "stream",
     "text": [
      "Remove Punctuation: 100%|██████████████████████████████████████████████████████████████| 37/37 [00:07<00:00,  5.13it/s]\n",
      "Removing Stopwords: 100%|█████████████████████████████████████████████████████████████| 37/37 [00:00<00:00, 505.92it/s]\n",
      "POS Tagging: 100%|█████████████████████████████████████████████████████████████████████| 37/37 [00:21<00:00,  1.75it/s]\n",
      "Word Frequency Distribution: 100%|████████████████████████████████████████████████████| 37/37 [00:00<00:00, 139.98it/s]\n",
      "Named Entity Recognition: 100%|████████████████████████████████████████████████████████| 37/37 [01:18<00:00,  2.14s/it]\n"
     ]
    }
   ],
   "source": [
    "# Let's extract the clean_word_tokens, filtered_clean_word_tokens, tagged_filtered_clean_word_tokens, word_tokens, sent_tokens, words_fdist, namedEnt\n",
    "word_tokens_list, sent_tokens_list, clean_word_tokens_list, filtered_clean_word_tokens_list, tagged_filtered_clean_word_tokens_list, words_fdist_list, namedEnts_list = text_list(fulltext_list)"
   ]
  },
  {
   "cell_type": "code",
   "execution_count": 4,
   "metadata": {},
   "outputs": [
    {
     "name": "stdout",
     "output_type": "stream",
     "text": [
      "Variable                                 Type        Data/Info\n",
      "--------------------------------------------------------------\n",
      "clean_word_tokens_list                   list        n=37\n",
      "filtered_clean_word_tokens_list          list        n=37\n",
      "fulltext_list                            list        n=37\n",
      "namedEnts_list                           list        n=37\n",
      "pickle                                   module      <module 'pickle' from 'C:<...>aconda3\\\\lib\\\\pickle.py'>\n",
      "sent_tokens_list                         list        n=37\n",
      "tagged_filtered_clean_word_tokens_list   list        n=37\n",
      "text_list                                function    <function text_list at 0x0000019054BD21E0>\n",
      "word_tokens_list                         list        n=37\n",
      "words_fdist_list                         list        n=37\n"
     ]
    }
   ],
   "source": [
    "# Looking into all the variables created\n",
    "%whos"
   ]
  },
  {
   "cell_type": "code",
   "execution_count": 5,
   "metadata": {},
   "outputs": [
    {
     "data": {
      "text/plain": [
       "37"
      ]
     },
     "execution_count": 5,
     "metadata": {},
     "output_type": "execute_result"
    }
   ],
   "source": [
    "# Let's look at the Frequency Distribution dictionary\n",
    "len(words_fdist_list)"
   ]
  },
  {
   "cell_type": "code",
   "execution_count": 7,
   "metadata": {},
   "outputs": [
    {
     "data": {
      "image/png": "[encoded data removed]",
      "text/plain": [
       "<Figure size 432x288 with 1 Axes>"
      ]
     },
     "metadata": {
      "needs_background": "light"
     },
     "output_type": "display_data"
    },
    {
     "data": {
      "text/plain": [
       "<matplotlib.axes._subplots.AxesSubplot at 0x190679f74a8>"
      ]
     },
     "execution_count": 7,
     "metadata": {},
     "output_type": "execute_result"
    }
   ],
   "source": [
    "# Let's plot the first list's word frequency distribution for the Top 20 words\n",
    "words_fdist_list[0].plot(20)"
   ]
  },
  {
   "cell_type": "code",
   "execution_count": null,
   "metadata": {},
   "outputs": [],
   "source": []
  }
 ],
 "metadata": {
  "kernelspec": {
   "display_name": "Python 3",
   "language": "python",
   "name": "python3"
  },
  "language_info": {
   "codemirror_mode": {
    "name": "ipython",
    "version": 3
   },
   "file_extension": ".py",
   "mimetype": "text/x-python",
   "name": "python",
   "nbconvert_exporter": "python",
   "pygments_lexer": "ipython3",
   "version": "3.7.3"
  }
 },
 "nbformat": 4,
 "nbformat_minor": 2
}

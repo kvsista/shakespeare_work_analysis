{
 "cells": [
  {
   "cell_type": "code",
   "execution_count": 1,
   "metadata": {},
   "outputs": [],
   "source": [
    "from preprocessing import text_list\n",
    "import pickle"
   ]
  },
  {
   "cell_type": "code",
   "execution_count": 2,
   "metadata": {},
   "outputs": [],
   "source": [
    "fulltext_list = pickle.load(open(\"data/fulltext_list.pkl\", \"rb\"))"
   ]
  },
  {
   "cell_type": "code",
   "execution_count": 4,
   "metadata": {},
   "outputs": [
    {
     "name": "stderr",
     "output_type": "stream",
     "text": [
      "Remove Punctuation: 100%|██████████████████████████████████████████████████████████████| 37/37 [00:07<00:00,  5.04it/s]\n",
      "Removing Stopwords: 100%|█████████████████████████████████████████████████████████████| 37/37 [00:00<00:00, 490.97it/s]\n",
      "POS Tagging: 100%|█████████████████████████████████████████████████████████████████████| 37/37 [00:21<00:00,  1.75it/s]\n",
      "Word Frequency Distribution: 100%|████████████████████████████████████████████████████| 37/37 [00:00<00:00, 141.54it/s]\n",
      "Named Entity Recognition: 100%|████████████████████████████████████████████████████████| 37/37 [01:20<00:00,  2.35s/it]\n"
     ]
    }
   ],
   "source": [
    "# Let's extract the clean_word_tokens, filtered_clean_word_tokens, tagged_filtered_clean_word_tokens, word_tokens, sent_tokens, words_fdist, namedEnt\n",
    "word_tokens_list, sent_tokens_list, clean_word_tokens_list, filtered_clean_word_tokens_list, tagged_filtered_clean_word_tokens_list, words_fdist_list, namedEnts_list = text_list(fulltext_list)"
   ]
  },
  {
   "cell_type": "code",
   "execution_count": null,
   "metadata": {},
   "outputs": [],
   "source": [
    "namedEnts_list[0]"
   ]
  },
  {
   "cell_type": "code",
   "execution_count": null,
   "metadata": {},
   "outputs": [],
   "source": [
    "# Looking into all the variables created\n",
    "%whos"
   ]
  },
  {
   "cell_type": "code",
   "execution_count": null,
   "metadata": {},
   "outputs": [],
   "source": [
    "# Let's look at the Frequency Distribution dictionary\n",
    "words_fdist"
   ]
  },
  {
   "cell_type": "code",
   "execution_count": null,
   "metadata": {},
   "outputs": [],
   "source": [
    "def plot_freqdist_freq(fdist,\n",
    "                       max_num=None,\n",
    "                       cumulative=False,\n",
    "                       title='Frequency plot',\n",
    "                       linewidth=2):\n",
    "    \"\"\"\n",
    "    As of NLTK version 3.2.1, FreqDist.plot() plots the counts \n",
    "    and has no kwarg for normalising to frequency. \n",
    "    Work this around here.\n",
    "    \n",
    "    INPUT:\n",
    "        - the FreqDist object\n",
    "        - max_num: if specified, only plot up to this number of items \n",
    "          (they are already sorted descending by the FreqDist)\n",
    "        - cumulative: bool (defaults to False)\n",
    "        - title: the title to give the plot\n",
    "        - linewidth: the width of line to use (defaults to 2)\n",
    "    OUTPUT: plot the freq and return None.\n",
    "    \n",
    "    Code from: https://martinapugliese.github.io/plotting-the-actual-frequencies-in-a-FreqDist-in-nltk/\n",
    "    Author: Martina Pugliese, Edinburgh, Scotland\n",
    "    \"\"\"\n",
    "\n",
    "    tmp = fdist.copy()\n",
    "    norm = fdist.N()\n",
    "    for key in tmp.keys():\n",
    "        tmp[key] = float(fdist[key]) / norm\n",
    "\n",
    "    if max_num:\n",
    "        tmp.plot(max_num, cumulative=cumulative,\n",
    "                 title=title, linewidth=linewidth)\n",
    "    else:\n",
    "        tmp.plot(cumulative=cumulative, \n",
    "                 title=title, \n",
    "                 linewidth=linewidth)\n",
    "\n",
    "    return"
   ]
  },
  {
   "cell_type": "code",
   "execution_count": null,
   "metadata": {},
   "outputs": [],
   "source": [
    "# Let's plot the normalized word frequency distribution for the Top 30 words\n",
    "plot_freqdist_freq(words_fdist, max_num=30)"
   ]
  },
  {
   "cell_type": "code",
   "execution_count": null,
   "metadata": {},
   "outputs": [],
   "source": [
    "# Let's plot the counts of the frequency distribution for the Top 30 words\n",
    "words_fdist.plot(30)"
   ]
  },
  {
   "cell_type": "code",
   "execution_count": null,
   "metadata": {},
   "outputs": [],
   "source": []
  }
 ],
 "metadata": {
  "kernelspec": {
   "display_name": "Python 3",
   "language": "python",
   "name": "python3"
  },
  "language_info": {
   "codemirror_mode": {
    "name": "ipython",
    "version": 3
   },
   "file_extension": ".py",
   "mimetype": "text/x-python",
   "name": "python",
   "nbconvert_exporter": "python",
   "pygments_lexer": "ipython3",
   "version": "3.7.3"
  }
 },
 "nbformat": 4,
 "nbformat_minor": 2
}

{
 "cells": [
  {
   "cell_type": "code",
   "execution_count": 1,
   "metadata": {},
   "outputs": [],
   "source": [
    "from scraper import folder_structure, page_links, textfromlink\n",
    "import pickle"
   ]
  },
  {
   "cell_type": "code",
   "execution_count": 2,
   "metadata": {},
   "outputs": [],
   "source": [
    "# Let's assign a variable named 'url' to the website we intend to scrape\n",
    "url = 'http://shakespeare.mit.edu/'"
   ]
  },
  {
   "cell_type": "code",
   "execution_count": 3,
   "metadata": {
    "scrolled": true
   },
   "outputs": [
    {
     "name": "stdout",
     "output_type": "stream",
     "text": [
      "Folder Exists: 'data'\n",
      "Folder Exists: 'data/links'\n",
      "Folder Exists: 'data/texts'\n",
      "Folder Exists: 'data/tokens'\n"
     ]
    }
   ],
   "source": [
    "# Let's extract the home_links and internal_links from the entire website\n",
    "page_links(url)"
   ]
  },
  {
   "cell_type": "code",
   "execution_count": 4,
   "metadata": {},
   "outputs": [],
   "source": [
    "# Let's load the 'internal_links.pkl' file and unpickle it\n",
    "internal_links = pickle.load(open(\"data/links/internal_links.pkl\", \"rb\"))"
   ]
  },
  {
   "cell_type": "code",
   "execution_count": 5,
   "metadata": {},
   "outputs": [
    {
     "name": "stdout",
     "output_type": "stream",
     "text": [
      "Folder Exists: 'data'\n",
      "Folder Exists: 'data/links'\n",
      "Folder Exists: 'data/texts'\n",
      "Folder Exists: 'data/tokens'\n"
     ]
    }
   ],
   "source": [
    "# Let's extract the text from each internal_link and stitch them together into a single string\n",
    "textfromlink(internal_links)"
   ]
  },
  {
   "cell_type": "code",
   "execution_count": null,
   "metadata": {},
   "outputs": [],
   "source": []
  }
 ],
 "metadata": {
  "kernelspec": {
   "display_name": "Python 3",
   "language": "python",
   "name": "python3"
  },
  "language_info": {
   "codemirror_mode": {
    "name": "ipython",
    "version": 3
   },
   "file_extension": ".py",
   "mimetype": "text/x-python",
   "name": "python",
   "nbconvert_exporter": "python",
   "pygments_lexer": "ipython3",
   "version": "3.7.3"
  }
 },
 "nbformat": 4,
 "nbformat_minor": 2
}
